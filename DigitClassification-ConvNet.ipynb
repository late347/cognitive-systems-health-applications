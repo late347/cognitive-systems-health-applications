{
 "cells": [
  {
   "cell_type": "code",
   "execution_count": 1,
   "metadata": {},
   "outputs": [
    {
     "name": "stderr",
     "output_type": "stream",
     "text": [
      "Using TensorFlow backend.\n"
     ]
    }
   ],
   "source": [
    "#Download the data\n",
    "\n",
    "from keras.datasets import mnist\n",
    "(train_images, train_labels), (test_images, test_labels) = mnist.load_data()"
   ]
  },
  {
   "cell_type": "code",
   "execution_count": 2,
   "metadata": {},
   "outputs": [],
   "source": [
    "#Preprocess the data\n",
    "\n",
    "train_images = train_images.reshape((60000,28,28,1))\n",
    "train_images = train_images.astype('float32')/255\n",
    "\n",
    "test_images = test_images.reshape((10000,28,28,1))\n",
    "test_images = test_images.astype('float32')/255\n",
    "\n",
    "from keras.utils import to_categorical\n",
    "\n",
    "train_labels = to_categorical(train_labels)\n",
    "test_labels = to_categorical(test_labels)"
   ]
  },
  {
   "cell_type": "code",
   "execution_count": 3,
   "metadata": {},
   "outputs": [
    {
     "name": "stdout",
     "output_type": "stream",
     "text": [
      "_________________________________________________________________\n",
      "Layer (type)                 Output Shape              Param #   \n",
      "=================================================================\n",
      "conv2d_1 (Conv2D)            (None, 28, 28, 32)        320       \n",
      "_________________________________________________________________\n",
      "max_pooling2d_1 (MaxPooling2 (None, 14, 14, 32)        0         \n",
      "_________________________________________________________________\n",
      "conv2d_2 (Conv2D)            (None, 12, 12, 32)        9248      \n",
      "_________________________________________________________________\n",
      "max_pooling2d_2 (MaxPooling2 (None, 6, 6, 32)          0         \n",
      "_________________________________________________________________\n",
      "conv2d_3 (Conv2D)            (None, 6, 6, 32)          9248      \n",
      "_________________________________________________________________\n",
      "max_pooling2d_3 (MaxPooling2 (None, 3, 3, 32)          0         \n",
      "_________________________________________________________________\n",
      "flatten_1 (Flatten)          (None, 288)               0         \n",
      "_________________________________________________________________\n",
      "dense_1 (Dense)              (None, 10)                2890      \n",
      "=================================================================\n",
      "Total params: 21,706\n",
      "Trainable params: 21,706\n",
      "Non-trainable params: 0\n",
      "_________________________________________________________________\n"
     ]
    }
   ],
   "source": [
    "#Build and compile the model\n",
    "\n",
    "from keras import models\n",
    "from keras import layers\n",
    "\n",
    "network = models.Sequential()\n",
    "network.add(layers.Conv2D(32, (3,3), activation = 'relu', \n",
    "                          padding = \"same\",input_shape=(28,28,1)))\n",
    "network.add(layers.MaxPooling2D((2,2)))\n",
    "network.add(layers.Conv2D(32, (3,3), activation = 'relu'))\n",
    "network.add(layers.MaxPooling2D((2,2)))\n",
    "network.add(layers.Conv2D(32, (3,3), padding = \"same\", activation = 'relu'))\n",
    "network.add(layers.MaxPooling2D((2,2)))\n",
    "network.add(layers.Flatten())\n",
    "network.add(layers.Dense(10, activation = 'softmax'))\n",
    "\n",
    "network.summary() \n"
   ]
  },
  {
   "cell_type": "code",
   "execution_count": 4,
   "metadata": {},
   "outputs": [],
   "source": [
    "network.compile(optimizer = 'rmsprop',\n",
    "               loss = 'categorical_crossentropy',\n",
    "               metrics = ['accuracy'])"
   ]
  },
  {
   "cell_type": "code",
   "execution_count": 5,
   "metadata": {},
   "outputs": [
    {
     "name": "stdout",
     "output_type": "stream",
     "text": [
      "Epoch 1/15\n",
      "60000/60000 [==============================] - 8s 131us/step - loss: 0.2913 - acc: 0.9147\n",
      "Epoch 2/15\n",
      "60000/60000 [==============================] - 4s 72us/step - loss: 0.0842 - acc: 0.9741\n",
      "Epoch 3/15\n",
      "60000/60000 [==============================] - 4s 72us/step - loss: 0.0579 - acc: 0.9818\n",
      "Epoch 4/15\n",
      "60000/60000 [==============================] - 5s 77us/step - loss: 0.0454 - acc: 0.9858\n",
      "Epoch 5/15\n",
      "60000/60000 [==============================] - 4s 71us/step - loss: 0.0370 - acc: 0.9882\n",
      "Epoch 6/15\n",
      "60000/60000 [==============================] - 4s 71us/step - loss: 0.0304 - acc: 0.9905\n",
      "Epoch 7/15\n",
      "60000/60000 [==============================] - 4s 72us/step - loss: 0.0264 - acc: 0.9916\n",
      "Epoch 8/15\n",
      "60000/60000 [==============================] - 4s 73us/step - loss: 0.0229 - acc: 0.9928\n",
      "Epoch 9/15\n",
      "60000/60000 [==============================] - 4s 71us/step - loss: 0.0206 - acc: 0.9935\n",
      "Epoch 10/15\n",
      "60000/60000 [==============================] - 4s 70us/step - loss: 0.0179 - acc: 0.9942\n",
      "Epoch 11/15\n",
      "60000/60000 [==============================] - 4s 73us/step - loss: 0.0163 - acc: 0.9947\n",
      "Epoch 12/15\n",
      "60000/60000 [==============================] - 5s 82us/step - loss: 0.0140 - acc: 0.9953\n",
      "Epoch 13/15\n",
      "60000/60000 [==============================] - 5s 80us/step - loss: 0.0126 - acc: 0.9963\n",
      "Epoch 14/15\n",
      "60000/60000 [==============================] - 5s 80us/step - loss: 0.0113 - acc: 0.9965\n",
      "Epoch 15/15\n",
      "60000/60000 [==============================] - 5s 88us/step - loss: 0.0104 - acc: 0.9970\n"
     ]
    },
    {
     "data": {
      "text/plain": [
       "<keras.callbacks.History at 0x1f69a328c18>"
      ]
     },
     "execution_count": 5,
     "metadata": {},
     "output_type": "execute_result"
    }
   ],
   "source": [
    "#Train the model\n",
    "\n",
    "network.fit(train_images, train_labels, \n",
    "                      epochs = 15, batch_size = 128)"
   ]
  },
  {
   "cell_type": "code",
   "execution_count": 6,
   "metadata": {},
   "outputs": [
    {
     "name": "stdout",
     "output_type": "stream",
     "text": [
      "10000/10000 [==============================] - 1s 89us/step\n",
      "test acc: 0.9905\n"
     ]
    }
   ],
   "source": [
    "#Test the model\n",
    "\n",
    "test_loss, test_acc = network.evaluate(test_images, test_labels)\n",
    "print('test acc:', test_acc)"
   ]
  },
  {
   "cell_type": "code",
   "execution_count": null,
   "metadata": {},
   "outputs": [],
   "source": []
  }
 ],
 "metadata": {
  "kernelspec": {
   "display_name": "Python 3",
   "language": "python",
   "name": "python3"
  },
  "language_info": {
   "codemirror_mode": {
    "name": "ipython",
    "version": 3
   },
   "file_extension": ".py",
   "mimetype": "text/x-python",
   "name": "python",
   "nbconvert_exporter": "python",
   "pygments_lexer": "ipython3",
   "version": "3.6.7"
  }
 },
 "nbformat": 4,
 "nbformat_minor": 2
}
